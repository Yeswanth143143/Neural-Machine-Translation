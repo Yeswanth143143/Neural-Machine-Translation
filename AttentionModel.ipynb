{
  "cells": [
    {
      "cell_type": "code",
      "execution_count": null,
      "metadata": {
        "id": "ETfeh4RciP6B"
      },
      "outputs": [],
      "source": [
        "import pandas as pd\n",
        "from sklearn.model_selection import train_test_split\n",
        "import string\n",
        "from string import digits\n",
        "import re\n",
        "from sklearn.utils import shuffle\n",
        "from keras.preprocessing.sequence import pad_sequences\n",
        "from keras.layers import LSTM, Input, Dense,Embedding, Concatenate, TimeDistributed, Attention, AdditiveAttention\n",
        "! pip install googletrans==4.0.0rc1\n",
        "from googletrans import Translator\n",
        "from keras.preprocessing.text import one_hot, Tokenizer\n",
        "from keras.callbacks import EarlyStopping\n",
        "from keras.regularizers import l2\n",
        "import pickle as pkl\n",
        "import numpy as np\n",
        "import tensorflow as tf"
      ]
    },
    {
      "cell_type": "code",
      "execution_count": null,
      "metadata": {
        "colab": {
          "base_uri": "https://localhost:8080/"
        },
        "id": "7DOxPS7hjZGB",
        "outputId": "7950f65a-92bf-4215-be2e-0cd27cce656b"
      },
      "outputs": [
        {
          "output_type": "stream",
          "name": "stdout",
          "text": [
            "Mounted at /content/drive\n"
          ]
        }
      ],
      "source": [
        "from itertools import chain\n",
        "from google.colab import drive\n",
        "drive.mount('/content/drive')"
      ]
    },
    {
      "cell_type": "code",
      "source": [
        "def load_doc(filename):\n",
        "\tfile = open(filename, mode='rt', encoding='utf-8')\n",
        "\ttext = file.read()\n",
        "\tfile.close()\n",
        "\treturn text"
      ],
      "metadata": {
        "id": "xD5DGC5Ko7aY"
      },
      "execution_count": null,
      "outputs": []
    },
    {
      "cell_type": "code",
      "source": [
        "def to_pairs(doc):\n",
        "\tlines = doc.strip().split('\\n')\n",
        "\tpairs = [line.split('\\t') for line in  lines]\n",
        "\treturn pairs"
      ],
      "metadata": {
        "id": "5DTFBjTXo7ol"
      },
      "execution_count": null,
      "outputs": []
    },
    {
      "cell_type": "code",
      "source": [
        "def clean_pairs(lines):\n",
        "\tcleaned = list()\n",
        "\tre_punc = re.compile('[।%s]' % re.escape(string.punctuation))\n",
        "\tre_print = re.compile('[^%s]' % re.escape(string.printable))\n",
        "\tfor pair in lines:\n",
        "\t\tclean_pair = list()\n",
        "\t\tfor line in pair:\n",
        "\t\t\tline = line.split()\n",
        "\t\t\tline = [re_punc.sub('', w) for w in line]\n",
        "\t\t\tclean_pair.append(' '.join(line))\n",
        "\t\tcleaned.append(clean_pair)\n",
        "\treturn np.array(cleaned)"
      ],
      "metadata": {
        "id": "RlywVdsKo7yU"
      },
      "execution_count": null,
      "outputs": []
    },
    {
      "cell_type": "code",
      "execution_count": null,
      "metadata": {
        "id": "QdcRmJvUjZI7"
      },
      "outputs": [],
      "source": [
        "# save a list of clean sentences to file\n",
        "def save_clean_data(sentences, filename):\n",
        "\tpkl.dump(sentences, open(filename, 'wb'))\n",
        "\tprint('Saved: %s' % filename)"
      ]
    },
    {
      "cell_type": "code",
      "source": [
        "def predict__sentences(sentence):\n",
        "  trs=Translator()\n",
        "  result=trs.translate(sentence, dest='hi').text\n",
        "  return result"
      ],
      "metadata": {
        "id": "7xs8M_-srgq6"
      },
      "execution_count": null,
      "outputs": []
    },
    {
      "cell_type": "code",
      "source": [
        "filename = '/content/drive/MyDrive/eng-hin.txt'\n",
        "doc = load_doc(filename)\n",
        "pairs = to_pairs(doc)\n",
        "clean_pairs = clean_pairs(pairs)\n",
        "print (\"Number of clean pairs\",clean_pairs.shape[0])\n",
        "save_clean_data(clean_pairs, '/content/drive/MyDrive/english-hindi.pkl')"
      ],
      "metadata": {
        "id": "qelIg78spUFs"
      },
      "execution_count": null,
      "outputs": []
    },
    {
      "cell_type": "code",
      "source": [
        "def load_clean_sentences(filename):\n",
        "\treturn pkl.load(open(filename, 'rb'))\n",
        "\n",
        "# save a list of clean sentences to file\n",
        "def save_clean_data(sentences, filename):\n",
        "\tpkl.dump(sentences, open(filename, 'wb'))\n",
        "\tprint('Saved: %s' % filename)\n",
        "\n",
        "# load dataset\n",
        "raw_dataset = load_clean_sentences('/content/drive/MyDrive/english-hindi.pkl')\n",
        "\n",
        "# reduce dataset size\n",
        "#n_sentences = raw_dataset.shape[0]\n",
        "dataset = raw_dataset[:40000,]\n",
        "print (len(dataset))\n",
        "# random shuffle\n",
        "shuffle(dataset)\n",
        "# save\n",
        "save_clean_data(dataset, '/content/drive/MyDrive/english-hindi-both.pkl')"
      ],
      "metadata": {
        "id": "7ZfpjPEkpUKm"
      },
      "execution_count": null,
      "outputs": []
    },
    {
      "cell_type": "code",
      "source": [
        "dataset_list=(list(tuple(map(tuple, dataset))))"
      ],
      "metadata": {
        "id": "2Yc2WC3HpUOZ"
      },
      "execution_count": null,
      "outputs": []
    },
    {
      "cell_type": "code",
      "execution_count": null,
      "metadata": {
        "id": "lbKBfftxjZMN"
      },
      "outputs": [],
      "source": [
        "X_train, y_train, X_test, y_test=pkl.load(open('/content/drive/MyDrive/NMT_data.pkl', 'rb'))"
      ]
    },
    {
      "cell_type": "code",
      "execution_count": null,
      "metadata": {
        "colab": {
          "base_uri": "https://localhost:8080/"
        },
        "id": "KNOl6HWajZV1",
        "outputId": "c8905451-1469-4aec-951c-a1007a550588"
      },
      "outputs": [
        {
          "output_type": "execute_result",
          "data": {
            "text/plain": [
              "(array([1482,    1, 5806,    1, 5807,    3,    1, 5808, 5809,    0,    0,\n",
              "           0,    0], dtype=int32),\n",
              " array([   1, 6731, 6732,    6, 6733, 6734,   52, 1885,  213,    2,    0,\n",
              "           0,    0,    0,    0,    0,    0,    0,    0,    0], dtype=int32),\n",
              " array([ 105,   89,  175,    2,   38, 1225, 1253,   72,   26,    0,    0,\n",
              "           0,    0], dtype=int32),\n",
              " array([   1,   13, 2971,   38,   20,    5, 1801,    3,    2,    0,    0,\n",
              "           0,    0,    0,    0,    0,    0,    0,    0,    0], dtype=int32))"
            ]
          },
          "metadata": {},
          "execution_count": 6
        }
      ],
      "source": [
        "X_train[2],y_train[2],X_test[2], y_test[2]"
      ]
    },
    {
      "cell_type": "code",
      "execution_count": null,
      "metadata": {
        "id": "8t-SE6kQjZYf"
      },
      "outputs": [],
      "source": [
        "X_train = np.array(X_train)\n",
        "y_train = np.array(y_train)\n",
        "X_test = np.array(X_test)\n",
        "y_test = np.array(y_test)"
      ]
    },
    {
      "cell_type": "code",
      "execution_count": null,
      "metadata": {
        "id": "H_cVur6uoynE"
      },
      "outputs": [],
      "source": [
        "max_length_english=13\n",
        "max_length_hindi=20\n",
        "vocab_size_source=13517\n",
        "vocab_size_target=14316"
      ]
    },
    {
      "cell_type": "markdown",
      "metadata": {
        "id": "gIcqV84KoQLO"
      },
      "source": [
        "**MODEL TRAINING**"
      ]
    },
    {
      "cell_type": "code",
      "execution_count": null,
      "metadata": {
        "colab": {
          "base_uri": "https://localhost:8080/"
        },
        "id": "XWfLlXdfjZcC",
        "outputId": "37787062-c35d-4ef9-f0e9-fda851cffa4f"
      },
      "outputs": [
        {
          "output_type": "stream",
          "name": "stdout",
          "text": [
            "Model: \"model\"\n",
            "__________________________________________________________________________________________________\n",
            " Layer (type)                   Output Shape         Param #     Connected to                     \n",
            "==================================================================================================\n",
            " input_1 (InputLayer)           [(None, 13)]         0           []                               \n",
            "                                                                                                  \n",
            " input_2 (InputLayer)           [(None, None)]       0           []                               \n",
            "                                                                                                  \n",
            " embedding (Embedding)          (None, 13, 512)      6920704     ['input_1[0][0]']                \n",
            "                                                                                                  \n",
            " embedding_1 (Embedding)        (None, None, 512)    7329792     ['input_2[0][0]']                \n",
            "                                                                                                  \n",
            " lstm (LSTM)                    [(None, 13, 512),    2099200     ['embedding[0][0]']              \n",
            "                                 (None, 512),                                                     \n",
            "                                 (None, 512)]                                                     \n",
            "                                                                                                  \n",
            " lstm_1 (LSTM)                  [(None, None, 512),  2099200     ['embedding_1[0][0]',            \n",
            "                                 (None, 512),                     'lstm[0][1]',                   \n",
            "                                 (None, 512)]                     'lstm[0][2]']                   \n",
            "                                                                                                  \n",
            " attention_layer (AdditiveAtten  (None, None, 512)   512         ['lstm_1[0][0]',                 \n",
            " tion)                                                            'lstm[0][0]']                   \n",
            "                                                                                                  \n",
            " concat_layer (Concatenate)     (None, None, 1024)   0           ['lstm_1[0][0]',                 \n",
            "                                                                  'attention_layer[0][0]']        \n",
            "                                                                                                  \n",
            " time_distributed (TimeDistribu  (None, None, 14316)  14673900   ['concat_layer[0][0]']           \n",
            " ted)                                                                                             \n",
            "                                                                                                  \n",
            "==================================================================================================\n",
            "Total params: 33,123,308\n",
            "Trainable params: 33,123,308\n",
            "Non-trainable params: 0\n",
            "__________________________________________________________________________________________________\n"
          ]
        }
      ],
      "source": [
        "from keras import backend as K \n",
        "K.clear_session() \n",
        "latent_dim = 512\n",
        "\n",
        "# Encoder \n",
        "encoder_inputs = Input(shape=(max_length_english,)) \n",
        "enc_emb = Embedding(vocab_size_source, latent_dim,trainable=True)(encoder_inputs)\n",
        "\n",
        "#LSTM  \n",
        "encoder_lstm1 = LSTM(latent_dim,return_sequences=True,return_state=True,kernel_regularizer=l2(0.01)) \n",
        "encoder_outputs, state_h, state_c = encoder_lstm1(enc_emb)\n",
        "\n",
        "# Set up the decoder. \n",
        "decoder_inputs = Input(shape=(None,)) \n",
        "dec_emb_layer = Embedding(vocab_size_target, latent_dim,trainable=True) \n",
        "dec_emb = dec_emb_layer(decoder_inputs)\n",
        "\n",
        "#LSTM using encoder_states as initial state\n",
        "decoder_lstm = LSTM(latent_dim, return_sequences=True, return_state=True) \n",
        "decoder_outputs,decoder_fwd_state, decoder_back_state = decoder_lstm(dec_emb,initial_state=[state_h, state_c])\n",
        "\n",
        "#Attention Layer\n",
        "attn_out = AdditiveAttention(name='attention_layer')([decoder_outputs,encoder_outputs])\n",
        "\n",
        "# Concat attention output and decoder LSTM output \n",
        "decoder_concat_input = Concatenate(axis=-1, name='concat_layer')([decoder_outputs, attn_out])\n",
        "\n",
        "#Dense layer\n",
        "decoder_dense = TimeDistributed(Dense(vocab_size_target, activation='softmax')) \n",
        "decoder_outputs = decoder_dense(decoder_concat_input)\n",
        "\n",
        "# Define the model\n",
        "model = Model([encoder_inputs, decoder_inputs], decoder_outputs) \n",
        "#plot_model(model, to_file='train_model.png', show_shapes=True)\n",
        "model.summary()"
      ]
    },
    {
      "cell_type": "code",
      "execution_count": null,
      "metadata": {
        "id": "xNN4yuimrbiD"
      },
      "outputs": [],
      "source": [
        "model.compile(optimizer='rmsprop',loss='sparse_categorical_crossentropy', metrics=['accuracy'])"
      ]
    },
    {
      "cell_type": "code",
      "execution_count": null,
      "metadata": {
        "id": "zMXd0u-zrbxc"
      },
      "outputs": [],
      "source": [
        "save_model_callback = tf.keras.callbacks.ModelCheckpoint(\n",
        "    filepath='./drive/MyDrive/ADT-en-hi.h5',\n",
        "    monitor='val_accuracy',\n",
        "    mode='max'\n",
        ")"
      ]
    },
    {
      "cell_type": "code",
      "execution_count": null,
      "metadata": {
        "colab": {
          "base_uri": "https://localhost:8080/"
        },
        "id": "Tloqdg8yrqw2",
        "outputId": "1811188e-118d-4f3b-d3a2-314d1737d7f7"
      },
      "outputs": [
        {
          "output_type": "stream",
          "name": "stdout",
          "text": [
            "Epoch 1/35\n",
            "29/29 [==============================] - 639s 22s/step - loss: 6.2349 - accuracy: 0.5882 - val_loss: 3.2682 - val_accuracy: 0.6249\n",
            "Epoch 2/35\n",
            "29/29 [==============================] - 635s 22s/step - loss: 2.7806 - accuracy: 0.6432 - val_loss: 2.7174 - val_accuracy: 0.6599\n",
            "Epoch 3/35\n",
            "29/29 [==============================] - 633s 22s/step - loss: 2.5255 - accuracy: 0.6618 - val_loss: 2.6020 - val_accuracy: 0.6614\n",
            "Epoch 4/35\n",
            "29/29 [==============================] - 636s 22s/step - loss: 2.4385 - accuracy: 0.6641 - val_loss: 2.5655 - val_accuracy: 0.6634\n",
            "Epoch 5/35\n",
            "29/29 [==============================] - 637s 22s/step - loss: 2.3671 - accuracy: 0.6675 - val_loss: 2.5238 - val_accuracy: 0.6677\n",
            "Epoch 6/35\n",
            "29/29 [==============================] - 640s 22s/step - loss: 2.3093 - accuracy: 0.6716 - val_loss: 2.5171 - val_accuracy: 0.6702\n",
            "Epoch 7/35\n",
            "29/29 [==============================] - 639s 22s/step - loss: 2.2434 - accuracy: 0.6759 - val_loss: 2.4645 - val_accuracy: 0.6742\n",
            "Epoch 8/35\n",
            "29/29 [==============================] - 639s 22s/step - loss: 2.2134 - accuracy: 0.6790 - val_loss: 2.5175 - val_accuracy: 0.6751\n",
            "Epoch 9/35\n",
            "29/29 [==============================] - 645s 22s/step - loss: 2.1667 - accuracy: 0.6836 - val_loss: 2.4269 - val_accuracy: 0.6791\n",
            "Epoch 10/35\n",
            "29/29 [==============================] - 638s 22s/step - loss: 2.0903 - accuracy: 0.6864 - val_loss: 2.4164 - val_accuracy: 0.6798\n",
            "Epoch 11/35\n",
            "29/29 [==============================] - 637s 22s/step - loss: 2.0310 - accuracy: 0.6894 - val_loss: 2.4120 - val_accuracy: 0.6796\n",
            "Epoch 12/35\n",
            "29/29 [==============================] - 639s 22s/step - loss: 1.9776 - accuracy: 0.6921 - val_loss: 2.4097 - val_accuracy: 0.6826\n",
            "Epoch 13/35\n",
            "29/29 [==============================] - 638s 22s/step - loss: 1.9261 - accuracy: 0.6948 - val_loss: 2.3879 - val_accuracy: 0.6839\n",
            "Epoch 14/35\n",
            "29/29 [==============================] - 640s 22s/step - loss: 1.8747 - accuracy: 0.6987 - val_loss: 2.3869 - val_accuracy: 0.6864\n",
            "Epoch 15/35\n",
            "29/29 [==============================] - 644s 22s/step - loss: 1.8237 - accuracy: 0.7021 - val_loss: 2.3783 - val_accuracy: 0.6865\n",
            "Epoch 16/35\n",
            "29/29 [==============================] - 642s 22s/step - loss: 1.7758 - accuracy: 0.7053 - val_loss: 2.3602 - val_accuracy: 0.6871\n",
            "Epoch 17/35\n",
            "29/29 [==============================] - 641s 22s/step - loss: 1.7256 - accuracy: 0.7095 - val_loss: 2.3627 - val_accuracy: 0.6896\n",
            "Epoch 18/35\n",
            "29/29 [==============================] - 644s 22s/step - loss: 1.6786 - accuracy: 0.7137 - val_loss: 2.3598 - val_accuracy: 0.6911\n",
            "Epoch 19/35\n",
            "29/29 [==============================] - 642s 22s/step - loss: 1.6294 - accuracy: 0.7183 - val_loss: 2.3528 - val_accuracy: 0.6922\n",
            "Epoch 20/35\n",
            "29/29 [==============================] - 643s 22s/step - loss: 1.5819 - accuracy: 0.7234 - val_loss: 2.3551 - val_accuracy: 0.6928\n",
            "Epoch 21/35\n",
            "29/29 [==============================] - 643s 22s/step - loss: 1.5344 - accuracy: 0.7295 - val_loss: 2.3713 - val_accuracy: 0.6909\n",
            "Epoch 22/35\n",
            "29/29 [==============================] - 644s 22s/step - loss: 1.4891 - accuracy: 0.7350 - val_loss: 2.3595 - val_accuracy: 0.6950\n",
            "Epoch 23/35\n",
            "29/29 [==============================] - 643s 22s/step - loss: 1.4386 - accuracy: 0.7424 - val_loss: 2.3782 - val_accuracy: 0.6960\n",
            "Epoch 24/35\n",
            "29/29 [==============================] - 646s 22s/step - loss: 1.3950 - accuracy: 0.7487 - val_loss: 2.3620 - val_accuracy: 0.6991\n",
            "Epoch 25/35\n",
            "29/29 [==============================] - 640s 22s/step - loss: 1.3498 - accuracy: 0.7554 - val_loss: 2.3633 - val_accuracy: 0.6999\n",
            "Epoch 26/35\n",
            "29/29 [==============================] - 643s 22s/step - loss: 1.3060 - accuracy: 0.7618 - val_loss: 2.3747 - val_accuracy: 0.6993\n",
            "Epoch 27/35\n",
            "29/29 [==============================] - 642s 22s/step - loss: 1.2641 - accuracy: 0.7685 - val_loss: 2.3810 - val_accuracy: 0.7002\n",
            "Epoch 28/35\n",
            "29/29 [==============================] - 658s 23s/step - loss: 1.2241 - accuracy: 0.7746 - val_loss: 2.3737 - val_accuracy: 0.7020\n",
            "Epoch 29/35\n",
            "29/29 [==============================] - 643s 22s/step - loss: 1.1811 - accuracy: 0.7808 - val_loss: 2.3782 - val_accuracy: 0.7015\n",
            "Epoch 30/35\n",
            "29/29 [==============================] - 639s 22s/step - loss: 1.1446 - accuracy: 0.7875 - val_loss: 2.3864 - val_accuracy: 0.7035\n",
            "Epoch 31/35\n",
            "29/29 [==============================] - 643s 22s/step - loss: 1.1057 - accuracy: 0.7935 - val_loss: 2.3997 - val_accuracy: 0.7022\n",
            "Epoch 32/35\n",
            "29/29 [==============================] - 642s 22s/step - loss: 1.0736 - accuracy: 0.7994 - val_loss: 2.3838 - val_accuracy: 0.7048\n",
            "Epoch 33/35\n",
            "29/29 [==============================] - 646s 22s/step - loss: 1.0355 - accuracy: 0.8056 - val_loss: 2.3894 - val_accuracy: 0.7039\n",
            "Epoch 34/35\n",
            "29/29 [==============================] - 641s 22s/step - loss: 1.0033 - accuracy: 0.8120 - val_loss: 2.3995 - val_accuracy: 0.7060\n",
            "Epoch 35/35\n",
            "29/29 [==============================] - 642s 22s/step - loss: 0.9709 - accuracy: 0.8173 - val_loss: 2.3940 - val_accuracy: 0.7070\n"
          ]
        }
      ],
      "source": [
        "history = model.fit([X_train, y_train[:,:-1]], y_train.reshape(y_train.shape[0], y_train.shape[1],1)[:,1:], \n",
        "                    epochs=35, \n",
        "                    callbacks=[save_model_callback, tf.keras.callbacks.TerminateOnNaN()],\n",
        "                    batch_size=512,\n",
        "                    validation_split=0.1\n",
        "                   )"
      ]
    },
    {
      "cell_type": "code",
      "execution_count": null,
      "metadata": {
        "colab": {
          "base_uri": "https://localhost:8080/",
          "height": 265
        },
        "id": "9X9dWy9drq8R",
        "outputId": "1933cc66-6ef9-485e-a0e7-24536f9af8a1"
      },
      "outputs": [
        {
          "output_type": "display_data",
          "data": {
            "text/plain": [
              "<Figure size 432x288 with 1 Axes>"
            ],
            "image/png": "[encoded data removed]"
          },
          "metadata": {
            "needs_background": "light"
          }
        }
      ],
      "source": [
        "from matplotlib import pyplot \n",
        "pyplot.plot(history.history['loss'], label='train') \n",
        "pyplot.plot(history.history['val_loss'], label='test') \n",
        "pyplot.legend() \n",
        "pyplot.show()"
      ]
    },
    {
      "cell_type": "markdown",
      "metadata": {
        "id": "FFrae8e2ruuH"
      },
      "source": [
        "**INFERENCE** **MODEL**"
      ]
    },
    {
      "cell_type": "code",
      "execution_count": null,
      "metadata": {
        "id": "heApMs5grq_v"
      },
      "outputs": [],
      "source": [
        "saved_model = tf.keras.models.load_model('./drive/MyDrive/en-hi.h5')"
      ]
    },
    {
      "cell_type": "code",
      "execution_count": null,
      "metadata": {
        "id": "FdPJzNReoDoC"
      },
      "outputs": [],
      "source": [
        "vocab_size_source, Eword2index, englishTokenizer=pkl.load(open('/content/drive/MyDrive/Base_Etokenizer.pkl', 'rb'))"
      ]
    },
    {
      "cell_type": "code",
      "execution_count": null,
      "metadata": {
        "id": "waOPNN6voDzy"
      },
      "outputs": [],
      "source": [
        "vocab_size_target, Hword2index, hindiTokenizer=pkl.load(open('/content/drive/MyDrive/Base_Htokenizer.pkl', 'rb'))"
      ]
    },
    {
      "cell_type": "code",
      "execution_count": null,
      "metadata": {
        "id": "GXjPm0dqy6Z4"
      },
      "outputs": [],
      "source": [
        "Eindex2word = englishTokenizer.index_word\n",
        "Hindex2word = hindiTokenizer.index_word"
      ]
    },
    {
      "cell_type": "code",
      "source": [
        "inputs = saved_model.get_layer('input_1').output\n",
        "_,state_h,state_c = saved_model.get_layer('lstm').output\n",
        "targets = saved_model.get_layer('input_2').output\n",
        "embedding_layer = saved_model.get_layer('embedding_1')\n",
        "decoder_lstm = saved_model.get_layer('lstm_1')\n",
        "dense1 = saved_model.get_layer('dense')"
      ],
      "metadata": {
        "id": "Vbis8ua49TLp"
      },
      "execution_count": null,
      "outputs": []
    },
    {
      "cell_type": "code",
      "source": [
        "d_model=256\n",
        "#Encoder\n",
        "encoder = tf.keras.models.Model(inputs, [state_h, state_c])\n",
        "\n",
        "#Decoder\n",
        "decoder_input_h = tf.keras.layers.Input(shape=(d_model,))\n",
        "decoder_input_c = tf.keras.layers.Input(shape=(d_model,))\n",
        "x = embedding_layer(targets)\n",
        "x, decoder_output_h, decoder_output_c = decoder_lstm(x, initial_state=[decoder_input_h, decoder_input_c])\n",
        "x = dense1(x)\n",
        "decoder = tf.keras.models.Model([targets]+[decoder_input_h, decoder_input_c],[x]+[decoder_output_h, decoder_output_c])"
      ],
      "metadata": {
        "id": "T7KWCZBb9TOj"
      },
      "execution_count": null,
      "outputs": []
    },
    {
      "cell_type": "code",
      "source": [
        "def predict__sentence(en_input):\n",
        "  input_seq = englishTokenizer.texts_to_sequences([en_input])\n",
        "\n",
        "  next_h, next_c = encoder.predict(input_seq)\n",
        "\n",
        "  curr_token = np.zeros((1,1))\n",
        "  curr_token[0,0] = hindiTokenizer.word_index['<START>']\n",
        "\n",
        "  pred_sentence = ''\n",
        "\n",
        "  for i in range(10):\n",
        "    output, next_h, next_c = decoder.predict([curr_token] + [next_h, next_c])\n",
        "    next_token = np.argmax(output[0, 0, :])\n",
        "    next_word = hindiTokenizer.index_word[next_token]\n",
        "    if next_word == '<END>':\n",
        "      break\n",
        "    else:\n",
        "      pred_sentence += ' ' + next_word\n",
        "      curr_token[0] = next_token\n",
        "\n",
        "  return pred_sentence"
      ],
      "metadata": {
        "id": "jFzMKo54U50u"
      },
      "execution_count": null,
      "outputs": []
    },
    {
      "cell_type": "code",
      "source": [
        "print(predict__sentences('i love my country'))\n",
        "print(predict__sentences(\"India is a beautiful country\"))\n",
        "print(predict__sentences(\"Students in my class are well disciplined\"))\n",
        "print(predict__sentences(\"how are you?\"))\n",
        "print(predict__sentences(\"I am a Graduate Sudent in Future\"))\n",
        "print(predict__sentences(\"I love studying computer language\"))\n",
        "print(predict__sentences(\"Sir or Mam please give your feedback\"))"
      ],
      "metadata": {
        "colab": {
          "base_uri": "https://localhost:8080/"
        },
        "id": "qHVXSTlhVl9N",
        "outputId": "9a190bc3-2b0a-4c98-86ac-dbf2eb3b8517"
      },
      "execution_count": null,
      "outputs": [
        {
          "output_type": "stream",
          "name": "stdout",
          "text": [
            "मैं अपने देश से प्यार करता हुँ\n",
            "भारत एक सुंदर देश है\n",
            " स्थिति करते थे करें क्या है\n",
            "क्या हाल है?\n",
            "मैं भविष्य में एक स्नातक छात्र हूं\n",
            " किला बहुत क्षमता सोचता था\n",
            "सर या मैम कृपया अपनी प्रतिक्रिया दें\n"
          ]
        }
      ]
    },
    {
      "cell_type": "code",
      "source": [
        "predict__sentences('i love my country')"
      ],
      "metadata": {
        "id": "VpPrP11aVmJy",
        "colab": {
          "base_uri": "https://localhost:8080/",
          "height": 36
        },
        "outputId": "bb5c3c3b-bd30-43a1-dced-81d797c9400d"
      },
      "execution_count": null,
      "outputs": [
        {
          "output_type": "execute_result",
          "data": {
            "text/plain": [
              "'मुझे अपने देश से प्यार है'"
            ],
            "application/vnd.google.colaboratory.intrinsic+json": {
              "type": "string"
            }
          },
          "metadata": {},
          "execution_count": 13
        }
      ]
    }
  ],
  "metadata": {
    "colab": {
      "collapsed_sections": [],
      "name": "Attention2.ipynb",
      "provenance": []
    },
    "kernelspec": {
      "display_name": "Python 3",
      "name": "python3"
    },
    "language_info": {
      "name": "python"
    }
  },
  "nbformat": 4,
  "nbformat_minor": 0
}