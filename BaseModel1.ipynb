{
  "cells": [
    {
      "cell_type": "code",
      "execution_count": null,
      "metadata": {
        "id": "YUSl3p3XnV9D"
      },
      "outputs": [],
      "source": [
        "import string\n",
        "import re\n",
        "from pickle import dump\n",
        "from unicodedata import normalize\n",
        "from numpy import array\n",
        "from pickle import load\n",
        "from pickle import dump\n",
        "from numpy.random import shuffle\n",
        "import tensorflow as tf"
      ]
    },
    {
      "cell_type": "code",
      "execution_count": null,
      "metadata": {
        "id": "Z6IZHejGgWpO"
      },
      "outputs": [],
      "source": [
        "import numpy as np"
      ]
    },
    {
      "cell_type": "code",
      "execution_count": null,
      "metadata": {
        "colab": {
          "base_uri": "https://localhost:8080/"
        },
        "id": "PY0dtH1tqu37",
        "outputId": "bf5ed38e-e0c4-4280-8c0c-529b047036c9"
      },
      "outputs": [
        {
          "name": "stdout",
          "output_type": "stream",
          "text": [
            "Mounted at /content/drive\n"
          ]
        }
      ],
      "source": [
        "from google.colab import drive\n",
        "drive.mount('/content/drive')"
      ]
    },
    {
      "cell_type": "code",
      "execution_count": null,
      "metadata": {
        "id": "B6y21VyppTSM"
      },
      "outputs": [],
      "source": [
        "def preprocess(text):\n",
        "  text = ''.join(ch for ch in text if ch not in string.punctuation)\n",
        "  text = text.lower()\n",
        "  text = re.sub(r'\\d','',text)\n",
        "  text = re.sub(r'\\s+',' ',text)\n",
        "  text = text.strip()\n",
        "  return text"
      ]
    },
    {
      "cell_type": "code",
      "execution_count": null,
      "metadata": {
        "id": "4dxglzPbvbyT"
      },
      "outputs": [],
      "source": [
        "filepath=\"/content/drive/MyDrive/Data/english-hindi.pkl\""
      ]
    },
    {
      "cell_type": "code",
      "execution_count": null,
      "metadata": {
        "colab": {
          "background_save": true,
          "base_uri": "https://localhost:8080/"
        },
        "id": "eOotgQSWtlZ4",
        "outputId": "9ddda60c-d783-4734-8ec1-c8ccb3cb1b96"
      },
      "outputs": [
        {
          "name": "stdout",
          "output_type": "stream",
          "text": [
            "40000\n",
            "Saved: english-hindi-both.pkl\n"
          ]
        }
      ],
      "source": [
        "def load_clean_sentences(filename):\n",
        "\treturn load(open(filename, 'rb'))\n",
        "\n",
        "# save a list of clean sentences to file\n",
        "def save_clean_data(sentences, filename):\n",
        "\tdump(sentences, open(filename, 'wb'))\n",
        "\tprint('Saved: %s' % filename)\n",
        "\n",
        "# load dataset\n",
        "raw_dataset = load_clean_sentences(filepath)\n",
        "\n",
        "# reduce dataset size\n",
        "#n_sentences = raw_dataset.shape[0]\n",
        "dataset = raw_dataset[:40000,]\n",
        "print (len(dataset))\n",
        "# random shuffle\n",
        "shuffle(dataset)\n",
        "# save\n",
        "save_clean_data(dataset, 'english-hindi-both.pkl')"
      ]
    },
    {
      "cell_type": "code",
      "execution_count": null,
      "metadata": {
        "colab": {
          "base_uri": "https://localhost:8080/"
        },
        "id": "S1Iq5kQY6_EC",
        "outputId": "8b96e8d8-8ff4-4ab5-850e-62c1e8930986"
      },
      "outputs": [
        {
          "data": {
            "text/plain": [
              "array([list(['18284', 'It extended at the same time support to the government in resisting the threatened American invasion ', 'साथ ही इसने सरकार को अमेरिका आक्रमण का मुकाबला करने के लिए भी अपना समर्थन दिया ']),\n",
              "       list(['8521', 'Laughter', 'हंसी'])], dtype=object)"
            ]
          },
          "execution_count": 9,
          "metadata": {},
          "output_type": "execute_result"
        }
      ],
      "source": [
        "dataset[:2]"
      ]
    },
    {
      "cell_type": "code",
      "execution_count": null,
      "metadata": {
        "id": "Hc1Xhz3Q6_Pf"
      },
      "outputs": [],
      "source": [
        "dataset_list=(list(tuple(map(tuple, dataset))))"
      ]
    },
    {
      "cell_type": "code",
      "execution_count": null,
      "metadata": {
        "id": "XPlrHJHO6_SV"
      },
      "outputs": [],
      "source": [
        "english_sentences_list=[]\n",
        "for T in dataset_list[:dataset.shape[0]]:\n",
        "      english_sentences_list.append(T[1])"
      ]
    },
    {
      "cell_type": "code",
      "execution_count": null,
      "metadata": {
        "id": "dxrYZEL86_Vu"
      },
      "outputs": [],
      "source": [
        "hindi_sentences_list=[]\n",
        "for T in dataset_list[:dataset.shape[0]]:\n",
        "      hindi_sentences_list.append(T[-1])"
      ]
    },
    {
      "cell_type": "code",
      "execution_count": null,
      "metadata": {
        "id": "QBnjl-b-7bg1"
      },
      "outputs": [],
      "source": [
        "def preprocess(text):\n",
        "  text = ''.join(ch for ch in text if ch not in string.punctuation)\n",
        "  text = text.lower()\n",
        "  text = re.sub(r'\\d','',text)\n",
        "  text = re.sub(r'\\s+',' ',text)\n",
        "  text = text.strip()\n",
        "  return text"
      ]
    },
    {
      "cell_type": "code",
      "execution_count": null,
      "metadata": {
        "id": "JDrqrdk37brk"
      },
      "outputs": [],
      "source": [
        "english_sentences = [preprocess(en) for en in english_sentences_list]\n",
        "hindi_sentences = ['<START> ' + re.sub('[a-zA-Z]','',preprocess(hi)) + ' <END>' for hi in hindi_sentences_list]"
      ]
    },
    {
      "cell_type": "code",
      "execution_count": null,
      "metadata": {
        "colab": {
          "base_uri": "https://localhost:8080/"
        },
        "id": "j3KKB3Xm7bzt",
        "outputId": "7a09a837-9213-4c1d-fb19-811f3d8e5cd0"
      },
      "outputs": [
        {
          "name": "stdout",
          "output_type": "stream",
          "text": [
            "20000 20000\n",
            "DATA TO START WITH\n"
          ]
        },
        {
          "data": {
            "text/plain": [
              "(['it extended at the same time support to the government in resisting the threatened american invasion',\n",
              "  'laughter',\n",
              "  'a uniform broad gauge all over the country would perhaps have been a luxury unwarranted by the nature and volume of the traffic at the time'],\n",
              " ['<START> साथ ही इसने सरकार को अमेरिका आक्रमण का मुकाबला करने के लिए भी अपना समर्थन दिया <END>',\n",
              "  '<START> हंसी <END>',\n",
              "  '<START> पूरे देश में एक समान बड़ी लाइन उस समय के वहन भार तथा वहन प्रकृति को देखते हुए एक विलासिता की बात ही बनती <END>'])"
            ]
          },
          "execution_count": 15,
          "metadata": {},
          "output_type": "execute_result"
        }
      ],
      "source": [
        "print(len(english_sentences), len(hindi_sentences))\n",
        "print(\"DATA TO START WITH\")\n",
        "english_sentences[:3], hindi_sentences[:3]"
      ]
    },
    {
      "cell_type": "code",
      "execution_count": null,
      "metadata": {
        "id": "faNRw0UH79Ey"
      },
      "outputs": [],
      "source": [
        "vocab_size = 10000\n",
        "total_sentences = 20000\n",
        "maxlen = 10\n",
        "epochs = 55\n",
        "validation_split = 0.05"
      ]
    },
    {
      "cell_type": "code",
      "execution_count": null,
      "metadata": {
        "id": "-CFyBOBk79IR"
      },
      "outputs": [],
      "source": [
        "en_data = []\n",
        "hi_data = []\n",
        "\n",
        "cnt = 0\n",
        "\n",
        "for (en,hi) in zip(english_sentences, hindi_sentences):\n",
        "  l = min(len(en.split()), len(hi.split()))\n",
        "  if l <= maxlen:\n",
        "    en_data.append(en)\n",
        "    hi_data.append(hi)\n",
        "    cnt += 1\n",
        "  if cnt == total_sentences:\n",
        "    break"
      ]
    },
    {
      "cell_type": "code",
      "execution_count": null,
      "metadata": {
        "colab": {
          "base_uri": "https://localhost:8080/"
        },
        "id": "xF0dhzlx79Lp",
        "outputId": "0bd34c0a-6fe1-4e70-f2f8-96feb2124788"
      },
      "outputs": [
        {
          "name": "stdout",
          "output_type": "stream",
          "text": [
            "English Vocab Size:  10119\n",
            "Hindi Vocab Size:  11025\n"
          ]
        }
      ],
      "source": [
        "en_tokenizer = tf.keras.preprocessing.text.Tokenizer(filters='', oov_token='<OOV>', lower=False)\n",
        "en_tokenizer.fit_on_texts(en_data)\n",
        "en_sequences = en_tokenizer.texts_to_sequences(en_data)\n",
        "Eword2index = en_tokenizer.word_index\n",
        "\n",
        "hi_tokenizer = tf.keras.preprocessing.text.Tokenizer(filters='', oov_token='<OOV>', lower=False)\n",
        "hi_tokenizer.fit_on_texts(hi_data)\n",
        "hi_sequences = hi_tokenizer.texts_to_sequences(hi_data)\n",
        "Hword2index = hi_tokenizer.word_index\n",
        "\n",
        "english_vocab_size = len(en_tokenizer.word_index) + 1\n",
        "hindi_vocab_size = len(hi_tokenizer.word_index) + 1\n",
        "print(\"English Vocab Size: \", english_vocab_size)\n",
        "print(\"Hindi Vocab Size: \", hindi_vocab_size)"
      ]
    },
    {
      "cell_type": "code",
      "execution_count": null,
      "metadata": {
        "id": "agiXY3mX_xZD"
      },
      "outputs": [],
      "source": [
        "#with open('/content/drive/MyDrive/NMT_data.pkl','wb') as f:\n",
        "# pkl.dump([X_train, y_train, X_test, y_test],f)\n",
        "with open('/content/drive/MyDrive/Base_Etokenizer.pkl','wb') as f:\n",
        "  dump([english_vocab_size, Eword2index, en_tokenizer], f)\n",
        "with open('/content/drive/MyDrive/Base_Htokenizer.pkl', 'wb') as f:\n",
        "  dump([hindi_vocab_size, Hword2index, hi_tokenizer], f)"
      ]
    },
    {
      "cell_type": "code",
      "execution_count": null,
      "metadata": {
        "id": "sjU5jdDi79iQ"
      },
      "outputs": [],
      "source": [
        "encoder_inputs = tf.keras.preprocessing.sequence.pad_sequences(en_sequences, maxlen=maxlen, padding='post')"
      ]
    },
    {
      "cell_type": "code",
      "execution_count": null,
      "metadata": {
        "id": "sNBM8D0K9ED0"
      },
      "outputs": [],
      "source": [
        "decoder_inputs = []\n",
        "decoder_outputs = []\n",
        "\n",
        "for hi in hi_sequences:\n",
        "  decoder_inputs.append(hi[:-1])\n",
        "  decoder_outputs.append(hi[1:])\n",
        "\n",
        "decoder_inputs = tf.keras.preprocessing.sequence.pad_sequences(decoder_inputs, maxlen=maxlen, padding='post')\n",
        "decoder_outputs = tf.keras.preprocessing.sequence.pad_sequences(decoder_outputs, maxlen=maxlen, padding='post')"
      ]
    },
    {
      "cell_type": "code",
      "execution_count": null,
      "metadata": {
        "colab": {
          "base_uri": "https://localhost:8080/"
        },
        "id": "uNXtcd1C9R-q",
        "outputId": "4c2ca65d-67d2-487e-e3b6-65b9ccf735e5"
      },
      "outputs": [
        {
          "name": "stdout",
          "output_type": "stream",
          "text": [
            "(9345, 10) (9345, 10) (9345, 10)\n"
          ]
        }
      ],
      "source": [
        "split = int(0.95 * total_sentences)\n",
        "\n",
        "X_train = [encoder_inputs[:split], decoder_inputs[:split]]\n",
        "y_train = decoder_outputs[:split]\n",
        "\n",
        "# Test data to evaluate our NMT model using BLEU score\n",
        "X_test = en_data[:split]\n",
        "y_test = hi_data[:split]\n",
        "\n",
        "print(X_train[0].shape, X_train[1].shape, y_train.shape)"
      ]
    },
    {
      "cell_type": "code",
      "execution_count": null,
      "metadata": {
        "id": "LTHBIdNj7BKP"
      },
      "outputs": [],
      "source": [
        ""
      ]
    },
    {
      "cell_type": "code",
      "execution_count": null,
      "metadata": {
        "colab": {
          "base_uri": "https://localhost:8080/"
        },
        "id": "OyotBmAH9SCI",
        "outputId": "5a4548be-bf9a-4d79-beba-36f6b489fb9c"
      },
      "outputs": [
        {
          "name": "stdout",
          "output_type": "stream",
          "text": [
            "Model: \"model\"\n",
            "__________________________________________________________________________________________________\n",
            " Layer (type)                   Output Shape         Param #     Connected to                     \n",
            "==================================================================================================\n",
            " input_1 (InputLayer)           [(None, None)]       0           []                               \n",
            "                                                                                                  \n",
            " input_2 (InputLayer)           [(None, None)]       0           []                               \n",
            "                                                                                                  \n",
            " embedding (Embedding)          (None, None, 256)    2590464     ['input_1[0][0]']                \n",
            "                                                                                                  \n",
            " embedding_1 (Embedding)        (None, None, 256)    2822400     ['input_2[0][0]']                \n",
            "                                                                                                  \n",
            " lstm (LSTM)                    [(None, 256),        525312      ['embedding[0][0]']              \n",
            "                                 (None, 256),                                                     \n",
            "                                 (None, 256)]                                                     \n",
            "                                                                                                  \n",
            " lstm_1 (LSTM)                  [(None, None, 256),  525312      ['embedding_1[0][0]',            \n",
            "                                 (None, 256),                     'lstm[0][1]',                   \n",
            "                                 (None, 256)]                     'lstm[0][2]']                   \n",
            "                                                                                                  \n",
            " dense (Dense)                  (None, None, 11025)  2833425     ['lstm_1[0][0]']                 \n",
            "                                                                                                  \n",
            "==================================================================================================\n",
            "Total params: 9,296,913\n",
            "Trainable params: 9,296,913\n",
            "Non-trainable params: 0\n",
            "__________________________________________________________________________________________________\n"
          ]
        }
      ],
      "source": [
        "#Define LSTM model\n",
        "d_model = 256\n",
        "\n",
        "#Encoder\n",
        "inputs = tf.keras.layers.Input(shape=(None,))\n",
        "x = tf.keras.layers.Embedding(english_vocab_size, d_model, mask_zero=True)(inputs)\n",
        "_,state_h,state_c = tf.keras.layers.LSTM(d_model,activation='relu',return_state=True)(x)\n",
        "\n",
        "#Decoder\n",
        "targets = tf.keras.layers.Input(shape=(None,))\n",
        "embedding_layer = tf.keras.layers.Embedding(hindi_vocab_size, d_model, mask_zero=True)\n",
        "x = embedding_layer(targets)\n",
        "decoder_lstm = tf.keras.layers.LSTM(d_model,activation='relu',return_sequences=True, return_state=True)\n",
        "x,_,_ = decoder_lstm(x, initial_state=[state_h, state_c])\n",
        "dense1 = tf.keras.layers.Dense(hindi_vocab_size, activation='softmax')\n",
        "x = dense1(x)\n",
        "\n",
        "model = tf.keras.models.Model(inputs=[inputs, targets],outputs=x)\n",
        "model.summary()\n",
        "\n",
        "loss = tf.keras.losses.SparseCategoricalCrossentropy()\n",
        "model.compile(optimizer='rmsprop', loss=loss, metrics=['accuracy'])"
      ]
    },
    {
      "cell_type": "code",
      "execution_count": null,
      "metadata": {
        "id": "vFgKO5Nl9SJ9"
      },
      "outputs": [],
      "source": [
        "save_model_callback = tf.keras.callbacks.ModelCheckpoint(\n",
        "    filepath='./drive/MyDrive/Data/en-hi.h5',\n",
        "    monitor='val_accuracy',\n",
        "    mode='max'\n",
        ")"
      ]
    },
    {
      "cell_type": "code",
      "execution_count": null,
      "metadata": {
        "colab": {
          "base_uri": "https://localhost:8080/"
        },
        "id": "gGMYxnck97lA",
        "outputId": "bf6abd58-4274-4e7c-e426-ae57f9511661"
      },
      "outputs": [
        {
          "name": "stdout",
          "output_type": "stream",
          "text": [
            "Epoch 1/50\n",
            "278/278 [==============================] - 95s 328ms/step - loss: 5.1412 - accuracy: 0.1353 - val_loss: 4.7243 - val_accuracy: 0.1570\n",
            "Epoch 2/50\n",
            "278/278 [==============================] - 92s 329ms/step - loss: 4.4306 - accuracy: 0.1698 - val_loss: 4.5558 - val_accuracy: 0.1694\n",
            "Epoch 3/50\n",
            "278/278 [==============================] - 91s 327ms/step - loss: 4.2268 - accuracy: 0.1899 - val_loss: 4.4704 - val_accuracy: 0.1907\n",
            "Epoch 4/50\n",
            "278/278 [==============================] - 92s 332ms/step - loss: 4.0767 - accuracy: 0.2065 - val_loss: 4.4267 - val_accuracy: 0.1982\n",
            "Epoch 5/50\n",
            "278/278 [==============================] - 92s 329ms/step - loss: 3.9607 - accuracy: 0.2149 - val_loss: 4.3821 - val_accuracy: 0.1993\n",
            "Epoch 6/50\n",
            "278/278 [==============================] - 92s 331ms/step - loss: 3.8627 - accuracy: 0.2246 - val_loss: 4.4129 - val_accuracy: 0.2074\n",
            "Epoch 7/50\n",
            "278/278 [==============================] - 91s 329ms/step - loss: 3.7755 - accuracy: 0.2343 - val_loss: 4.3977 - val_accuracy: 0.2103\n",
            "Epoch 8/50\n",
            "278/278 [==============================] - 91s 328ms/step - loss: 3.6955 - accuracy: 0.2445 - val_loss: 4.4051 - val_accuracy: 0.2146\n",
            "Epoch 9/50\n",
            "278/278 [==============================] - 92s 332ms/step - loss: 3.6211 - accuracy: 0.2540 - val_loss: 4.4833 - val_accuracy: 0.2189\n",
            "Epoch 10/50\n",
            "278/278 [==============================] - 93s 336ms/step - loss: 3.5513 - accuracy: 0.2642 - val_loss: 4.5075 - val_accuracy: 0.2224\n",
            "Epoch 11/50\n",
            "278/278 [==============================] - 98s 351ms/step - loss: 3.4856 - accuracy: 0.2742 - val_loss: 4.5351 - val_accuracy: 0.2226\n",
            "Epoch 12/50\n",
            "278/278 [==============================] - 93s 333ms/step - loss: 3.4223 - accuracy: 0.2834 - val_loss: 4.5735 - val_accuracy: 0.2221\n",
            "Epoch 13/50\n",
            "278/278 [==============================] - 95s 340ms/step - loss: 3.3611 - accuracy: 0.2932 - val_loss: 4.6492 - val_accuracy: 0.2261\n",
            "Epoch 14/50\n",
            "278/278 [==============================] - 92s 332ms/step - loss: 3.3027 - accuracy: 0.3052 - val_loss: 4.6998 - val_accuracy: 0.2252\n",
            "Epoch 15/50\n",
            "278/278 [==============================] - 93s 334ms/step - loss: 3.2434 - accuracy: 0.3156 - val_loss: 4.7364 - val_accuracy: 0.2203\n",
            "Epoch 16/50\n",
            "278/278 [==============================] - 95s 341ms/step - loss: 3.1869 - accuracy: 0.3258 - val_loss: 4.9594 - val_accuracy: 0.2249\n",
            "Epoch 17/50\n",
            "278/278 [==============================] - 94s 336ms/step - loss: 3.1299 - accuracy: 0.3388 - val_loss: 4.8488 - val_accuracy: 0.2221\n",
            "Epoch 18/50\n",
            "278/278 [==============================] - 94s 338ms/step - loss: 3.0733 - accuracy: 0.3484 - val_loss: 4.9675 - val_accuracy: 0.2226\n",
            "Epoch 19/50\n",
            "278/278 [==============================] - 93s 333ms/step - loss: 3.0169 - accuracy: 0.3608 - val_loss: 5.0615 - val_accuracy: 0.2198\n",
            "Epoch 20/50\n",
            "278/278 [==============================] - 93s 333ms/step - loss: 2.9603 - accuracy: 0.3694 - val_loss: 5.0511 - val_accuracy: 0.2175\n",
            "Epoch 21/50\n",
            "278/278 [==============================] - 93s 335ms/step - loss: 2.9036 - accuracy: 0.3789 - val_loss: 5.2352 - val_accuracy: 0.2232\n",
            "Epoch 22/50\n",
            "278/278 [==============================] - 92s 332ms/step - loss: 2.8461 - accuracy: 0.3883 - val_loss: 5.1185 - val_accuracy: 0.2169\n",
            "Epoch 23/50\n",
            "278/278 [==============================] - 92s 332ms/step - loss: 2.7891 - accuracy: 0.3992 - val_loss: 5.2836 - val_accuracy: 0.2224\n",
            "Epoch 24/50\n",
            "278/278 [==============================] - 92s 331ms/step - loss: 2.7312 - accuracy: 0.4084 - val_loss: 5.3682 - val_accuracy: 0.2215\n",
            "Epoch 25/50\n",
            "278/278 [==============================] - 92s 330ms/step - loss: 2.6693 - accuracy: 0.4174 - val_loss: 5.3408 - val_accuracy: 0.2154\n",
            "Epoch 26/50\n",
            "278/278 [==============================] - 92s 331ms/step - loss: 2.6081 - accuracy: 0.4272 - val_loss: 5.5883 - val_accuracy: 0.2183\n",
            "Epoch 27/50\n",
            "278/278 [==============================] - 92s 329ms/step - loss: 2.5441 - accuracy: 0.4383 - val_loss: 5.5348 - val_accuracy: 0.2175\n",
            "Epoch 28/50\n",
            "278/278 [==============================] - 93s 336ms/step - loss: 2.4782 - accuracy: 0.4505 - val_loss: 5.6477 - val_accuracy: 0.2123\n",
            "Epoch 29/50\n",
            "278/278 [==============================] - 92s 333ms/step - loss: 2.4101 - accuracy: 0.4597 - val_loss: 5.7085 - val_accuracy: 0.2079\n",
            "Epoch 30/50\n",
            "278/278 [==============================] - 92s 332ms/step - loss: 2.3390 - accuracy: 0.4731 - val_loss: 5.8480 - val_accuracy: 0.2108\n",
            "Epoch 31/50\n",
            "278/278 [==============================] - 92s 331ms/step - loss: 2.2681 - accuracy: 0.4849 - val_loss: 5.9131 - val_accuracy: 0.2105\n",
            "Epoch 32/50\n",
            "278/278 [==============================] - 93s 335ms/step - loss: 2.1917 - accuracy: 0.4985 - val_loss: 6.1082 - val_accuracy: 0.2091\n",
            "Epoch 33/50\n",
            "278/278 [==============================] - 93s 333ms/step - loss: 2.1177 - accuracy: 0.5100 - val_loss: 6.0977 - val_accuracy: 0.2022\n",
            "Epoch 34/50\n",
            "278/278 [==============================] - 93s 334ms/step - loss: 2.0346 - accuracy: 0.5239 - val_loss: 6.2812 - val_accuracy: 0.1993\n",
            "Epoch 35/50\n",
            "278/278 [==============================] - 92s 331ms/step - loss: 1.9531 - accuracy: 0.5384 - val_loss: 6.3559 - val_accuracy: 0.2002\n",
            "Epoch 36/50\n",
            "278/278 [==============================] - 92s 331ms/step - loss: 1.8711 - accuracy: 0.5536 - val_loss: 6.5217 - val_accuracy: 0.2022\n",
            "Epoch 37/50\n",
            "278/278 [==============================] - 92s 330ms/step - loss: 1.7802 - accuracy: 0.5688 - val_loss: 6.6102 - val_accuracy: 0.2005\n",
            "Epoch 38/50\n",
            "278/278 [==============================] - 92s 331ms/step - loss: 1.6996 - accuracy: 0.5826 - val_loss: 6.8839 - val_accuracy: 0.1947\n",
            "Epoch 39/50\n",
            "278/278 [==============================] - 91s 328ms/step - loss: 1.6111 - accuracy: 0.5980 - val_loss: 7.1026 - val_accuracy: 0.1987\n",
            "Epoch 40/50\n",
            "278/278 [==============================] - 92s 331ms/step - loss: 1.5267 - accuracy: 0.6108 - val_loss: 7.0779 - val_accuracy: 0.1912\n",
            "Epoch 41/50\n",
            "278/278 [==============================] - 93s 335ms/step - loss: 1.4379 - accuracy: 0.6256 - val_loss: 7.4093 - val_accuracy: 0.1947\n",
            "Epoch 42/50\n",
            "278/278 [==============================] - 93s 336ms/step - loss: 1.3469 - accuracy: 0.6389 - val_loss: 7.5287 - val_accuracy: 0.1915\n",
            "Epoch 43/50\n",
            "278/278 [==============================] - 94s 338ms/step - loss: 1.2654 - accuracy: 0.6527 - val_loss: 7.8459 - val_accuracy: 0.1982\n",
            "Epoch 44/50\n",
            "278/278 [==============================] - 95s 342ms/step - loss: 1.1804 - accuracy: 0.6688 - val_loss: 8.1833 - val_accuracy: 0.1987\n",
            "Epoch 45/50\n",
            "278/278 [==============================] - 94s 339ms/step - loss: 1.0931 - accuracy: 0.6839 - val_loss: 7.9762 - val_accuracy: 0.1907\n",
            "Epoch 46/50\n",
            "278/278 [==============================] - 95s 342ms/step - loss: 1.0094 - accuracy: 0.7005 - val_loss: 8.4614 - val_accuracy: 0.1944\n",
            "Epoch 47/50\n",
            "278/278 [==============================] - 96s 346ms/step - loss: 0.9237 - accuracy: 0.7207 - val_loss: 8.5906 - val_accuracy: 0.1915\n",
            "Epoch 48/50\n",
            "278/278 [==============================] - 96s 344ms/step - loss: 0.8461 - accuracy: 0.7403 - val_loss: 8.7985 - val_accuracy: 0.1959\n",
            "Epoch 49/50\n",
            "278/278 [==============================] - 103s 371ms/step - loss: 0.7729 - accuracy: 0.7577 - val_loss: 9.0211 - val_accuracy: 0.1887\n",
            "Epoch 50/50\n",
            "278/278 [==============================] - 96s 344ms/step - loss: 0.7039 - accuracy: 0.7770 - val_loss: 9.4262 - val_accuracy: 0.1941\n"
          ]
        }
      ],
      "source": [
        "history=model.fit(X_train,y_train,epochs=50,validation_split=validation_split, callbacks=[save_model_callback, tf.keras.callbacks.TerminateOnNaN()])"
      ]
    },
    {
      "cell_type": "code",
      "execution_count": null,
      "metadata": {
        "id": "i7LWVjHTf9Ly"
      },
      "outputs": [],
      "source": [
        "#Retrieve previously saved stuff\n",
        "saved_model = tf.keras.models.load_model('./drive/MyDrive/Data/en-hi.h5')\n",
        "inputs = saved_model.get_layer('input_1').output\n",
        "_,state_h,state_c = saved_model.get_layer('lstm').output\n",
        "targets = saved_model.get_layer('input_2').output\n",
        "embedding_layer = saved_model.get_layer('embedding_1')\n",
        "decoder_lstm = saved_model.get_layer('lstm_1')\n",
        "dense1 = saved_model.get_layer('dense')"
      ]
    },
    {
      "cell_type": "code",
      "execution_count": null,
      "metadata": {
        "id": "1ZHPeuWjf9e6"
      },
      "outputs": [],
      "source": [
        "#Inference Model\n",
        "d_model=256\n",
        "#Encoder\n",
        "encoder = tf.keras.models.Model(inputs, [state_h, state_c])\n",
        "\n",
        "#Decoder\n",
        "decoder_input_h = tf.keras.layers.Input(shape=(d_model,))\n",
        "decoder_input_c = tf.keras.layers.Input(shape=(d_model,))\n",
        "x = embedding_layer(targets)\n",
        "x, decoder_output_h, decoder_output_c = decoder_lstm(x, initial_state=[decoder_input_h, decoder_input_c])\n",
        "x = dense1(x)\n",
        "decoder = tf.keras.models.Model([targets] + [decoder_input_h, decoder_input_c], [x] + [decoder_output_h, decoder_output_c])"
      ]
    },
    {
      "cell_type": "code",
      "execution_count": null,
      "metadata": {
        "id": "8g7d9Y-597oh"
      },
      "outputs": [],
      "source": [
        "def predict_sentence(en_input):\n",
        "  input_seq = en_tokenizer.texts_to_sequences([en_input])\n",
        "\n",
        "  next_h, next_c = encoder.predict(input_seq)\n",
        "\n",
        "  curr_token = np.zeros((1,1))\n",
        "  curr_token[0,0] = hi_tokenizer.word_index['<START>']\n",
        "\n",
        "  pred_sentence = ''\n",
        "\n",
        "  for i in range(maxlen):\n",
        "    output, next_h, next_c = decoder.predict([curr_token] + [next_h, next_c])\n",
        "    next_token = np.argmax(output[0, 0, :])\n",
        "    next_word = hi_tokenizer.index_word[next_token]\n",
        "    if next_word == '<END>':\n",
        "      break\n",
        "    else:\n",
        "      pred_sentence += ' ' + next_word\n",
        "      curr_token[0] = next_token\n",
        "\n",
        "  return pred_sentence"
      ]
    },
    {
      "cell_type": "code",
      "execution_count": null,
      "metadata": {
        "colab": {
          "base_uri": "https://localhost:8080/"
        },
        "id": "jJFG6bLqzPxl",
        "outputId": "80d41dc3-6b8b-4d40-d373-1dcd9b964a55"
      },
      "outputs": [
        {
          "name": "stdout",
          "output_type": "stream",
          "text": [
            "Input:  of course in muslim\n",
            "Prediction:   आधार की जायें को चेहरे सकते हुए\n",
            "Dataset Reference:  आप जानते हैं कि\n",
            "\n",
            "Input:  what underpinned this shame\n",
            "Prediction:   वजह कि होना जिला संचार देखिए थी\n",
            "Dataset Reference:  इस शर्म का आधार क्या है\n",
            "\n",
            "Input:  amritmahals have a wellshaped and narrow head\n",
            "Prediction:   बहुत टीन क्योंकि कुछ कॉर्पोरेट\n",
            "Dataset Reference:  अमृतमहल नस्ल के जानवरों का सुन्दर आकार और संकीर्ण सिर होता है\n",
            "\n",
            "Input:  national aerospace laboratory lrb nal rrb played a lead role\n",
            "Prediction:   इसमें नियमित ने गयीं से जरुरी इसके हैं\n",
            "Dataset Reference:  इसमें एनएएल ने अहम भूमिका निभाई\n",
            "\n",
            "Input:  these organized gangs\n",
            "Prediction:   होना मेरे के चरण को भी प्रेम ले\n",
            "Dataset Reference:  इन संगठित गिरोहों\n",
            "\n",
            "Input:  they have combined the list of major innovations\n",
            "Prediction:   यहाँ अनुप्रयोग में कुछ नवंबर इंटरनेट समुद्र है\n",
            "Dataset Reference:  उन्होंने नए विचारों को संगृहीत किया\n",
            "\n",
            "Input:  the challenge i have\n",
            "Prediction:   झांसी हिन्दू हैं\n",
            "Dataset Reference:  मेरे सामने चुनौती ये है\n",
            "\n",
            "Input:  poetry\n",
            "Prediction:  \n",
            "Dataset Reference:  साहित्य\n",
            "\n",
            "Input:  we certainly saw that in\n",
            "Prediction:   नाम अपनी बात पर धर्म है\n",
            "Dataset Reference:  बेशक हमनें में यही देखा\n",
            "\n",
            "Input:  so ill give you four\n",
            "Prediction:   तो उसका उस सोचने कहता से बहुत बच्चे\n",
            "Dataset Reference:  तो मैं आपको चार प्रयोग बताऊंगा\n",
            "\n",
            "Input:  but relegious conversations prove that name is important than shape\n",
            "Prediction:   लेकिन तरंग को औटिस्म अध्यक्ष के\n",
            "Dataset Reference:  हालाँकि भक्तिसंवेदना के सिद्धांतों में यह बात सामान्य रूप से प्रतिष्ठित है कि ‘नाम रूप से बढ़कर है लेकिन कबीर ने इस सामान्य सिद्धांत का क्रांतिधर्मी उपयोग किया\n",
            "\n",
            "Input:  do you realize that you ted users\n",
            "Prediction:   आप भिन्न कि करती का खुद है\n",
            "Dataset Reference:  क्या आपको एहसास है आप श्रोतागण\n",
            "\n",
            "Input:  who is ultimately the compassionate one\n",
            "Prediction:   उसने पुराणों\n",
            "Dataset Reference:  जो अंततः परम करुणामय है\n",
            "\n",
            "Input:  going to court\n",
            "Prediction:   जानवर विशेष नहीं है\n",
            "Dataset Reference:  अदालता जाना\n",
            "\n",
            "Input:  the political impact of these incidents were important\n",
            "Prediction:   सुरक्षित मे यह सबसे था\n",
            "Dataset Reference:  इन संबंधों का राजनैतिक प्रभाव महत्त्वपूर्ण था\n",
            "\n",
            "Input:  kashmiri food\n",
            "Prediction:   सन्दर्भ सच्चाई\n",
            "Dataset Reference:  कश्मीरी खाना\n",
            "\n",
            "Input:  series religious book\n",
            "Prediction:   हर उसके\n",
            "Dataset Reference:  श्रेणीधर्मग्रन्थ\n",
            "\n",
            "Input:  applause\n",
            "Prediction:   पैसा बिना\n",
            "Dataset Reference:  तालियों सहित अभिवादन\n",
            "\n",
            "Input:  in the teachers lounge\n",
            "Prediction:   वाराणसी गांधी में\n",
            "Dataset Reference:  मेरी जान बचायी\n",
            "\n",
            "Input:  malegiver gets easiermen gets difficultygivermen gets enjoyment giver\n",
            "Prediction:   धरोहर अक्सर वे जब्बर भविष्य अँग्रेज़ी चिट्ठे टाइप अँग्रेज़ी गाँधीजी\n",
            "Dataset Reference:  · पुरुष को सहूलियत ☻☻☻☻ · पुरुष को परेशानी ☺ · पुरुष को आनंद ☻☻☻☻☺\n",
            "\n",
            "0.421245992699992\n"
          ]
        },
        {
          "name": "stderr",
          "output_type": "stream",
          "text": [
            "/usr/local/lib/python3.7/dist-packages/nltk/translate/bleu_score.py:490: UserWarning: \n",
            "Corpus/Sentence contains 0 counts of 2-gram overlaps.\n",
            "BLEU scores might be undesirable; use SmoothingFunction().\n",
            "  warnings.warn(_msg)\n"
          ]
        }
      ],
      "source": [
        "#Testing and Analysis\n",
        "import nltk\n",
        "\n",
        "candidates = []\n",
        "references = []\n",
        "\n",
        "ctr = 20 \n",
        "i = 0\n",
        "\n",
        "while ctr>0:\n",
        "  l = len(X_test[i].split())\n",
        "  if l<=maxlen:   #Choose only sentences of length in range [5,15]\n",
        "    pred_sentence = predict_sentence(X_test[i])\n",
        "    candidates.append(pred_sentence.split())\n",
        "\n",
        "    print(\"Input: \", X_test[i])\n",
        "    print(\"Prediction: \", pred_sentence)\n",
        "\n",
        "    #google_translated_sentence = translate_client.translate(X_test[i], target_language='hi')['translatedText']\n",
        "    \n",
        "    #print(\"Google Translated Reference: \", google_translated_sentence)\n",
        "    print(\"Dataset Reference: \", ' '.join(y_test[i].split()[1:-1]))\n",
        "    print()\n",
        "    references.append([y_test[i].split()[1:-1]]) # google_translated_sentence.split()\n",
        "\n",
        "    ctr -= 1\n",
        "  i += 1\n",
        "\n",
        "print(nltk.translate.bleu_score.corpus_bleu(references, candidates))"
      ]
    },
    {
      "cell_type": "code",
      "execution_count": null,
      "metadata": {
        "colab": {
          "base_uri": "https://localhost:8080/",
          "height": 265
        },
        "id": "XUMTPWQ81f0D",
        "outputId": "9d1f5fa4-464c-411f-a595-9b573fb7bebf"
      },
      "outputs": [
        {
          "data": {
            "image/png": "[encoded data removed]",
            "text/plain": [
              "<Figure size 432x288 with 1 Axes>"
            ]
          },
          "metadata": {},
          "output_type": "display_data"
        }
      ],
      "source": [
        "from matplotlib import pyplot \n",
        "pyplot.plot(history.history['loss'], label='train') \n",
        "pyplot.plot(history.history['val_loss'], label='test') \n",
        "pyplot.legend() \n",
        "pyplot.show()"
      ]
    },
    {
      "cell_type": "code",
      "execution_count": null,
      "metadata": {
        "colab": {
          "base_uri": "https://localhost:8080/",
          "height": 35
        },
        "id": "2ooekarf0W_S",
        "outputId": "90ccb3fb-ce84-4e16-ce54-4567efbe59e3"
      },
      "outputs": [
        {
          "data": {
            "application/vnd.google.colaboratory.intrinsic+json": {
              "type": "string"
            },
            "text/plain": [
              "' आर का तेजी'"
            ]
          },
          "execution_count": 28,
          "metadata": {},
          "output_type": "execute_result"
        }
      ],
      "source": [
        "predict_sentence(\"He is good boy\")"
      ]
    }
  ],
  "metadata": {
    "colab": {
      "name": "BaseModel1.ipynb",
      "provenance": []
    },
    "kernelspec": {
      "display_name": "Python 3",
      "name": "python3"
    },
    "language_info": {
      "name": "python"
    }
  },
  "nbformat": 4,
  "nbformat_minor": 0
}